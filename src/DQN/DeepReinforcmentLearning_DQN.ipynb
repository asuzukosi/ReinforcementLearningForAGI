{
  "nbformat": 4,
  "nbformat_minor": 0,
  "metadata": {
    "colab": {
      "provenance": [],
      "gpuType": "T4",
      "authorship_tag": "ABX9TyOqCsvUluxCUj5wBj6YKfyH",
      "include_colab_link": true
    },
    "kernelspec": {
      "name": "python3",
      "display_name": "Python 3"
    },
    "language_info": {
      "name": "python"
    },
    "accelerator": "GPU"
  },
  "cells": [
    {
      "cell_type": "markdown",
      "metadata": {
        "id": "view-in-github",
        "colab_type": "text"
      },
      "source": [
        "<a href=\"https://colab.research.google.com/github/asuzukosi/ReinforcementLearningForAGI/blob/main/src/DQN/DeepReinforcmentLearning_DQN.ipynb\" target=\"_parent\"><img src=\"https://colab.research.google.com/assets/colab-badge.svg\" alt=\"Open In Colab\"/></a>"
      ]
    },
    {
      "cell_type": "markdown",
      "source": [
        "### Deep Q-Networks\n",
        "In this notebook, we will explore the implementation of the base vanilla DQN algorithm to the rainbow DQN. We will explore the use of these algorithms across various gym environments. We will use 3 environments for each model."
      ],
      "metadata": {
        "id": "vasvYXHes_vi"
      }
    },
    {
      "cell_type": "markdown",
      "source": [
        "#### Install required libraries\n",
        "We will install the required libraries for environments and models we need"
      ],
      "metadata": {
        "id": "Rj6HgnwItiop"
      }
    },
    {
      "cell_type": "code",
      "source": [
        "import sys\n",
        "IN_COLAB = \"google.colab\" in sys.modules\n",
        "\n",
        "if IN_COLAB:\n",
        "    !apt-get install -y python3-opengl\n",
        "    !apt install ffmpeg\n",
        "    !apt install xvfb\n",
        "    !pip install PyVirtualDisplay==3.0\n",
        "    !pip install gymnasium==0.28.1\n",
        "    from pyvirtualdisplay import Display\n",
        "\n",
        "    # Start virtual display\n",
        "    dis = Display(visible=0, size=(400, 400))\n",
        "    dis.start()"
      ],
      "metadata": {
        "colab": {
          "base_uri": "https://localhost:8080/",
          "height": 988
        },
        "id": "KgjiiNNGuJCZ",
        "outputId": "74e7fe12-3eb4-4c4b-c29d-438998fae258"
      },
      "execution_count": 6,
      "outputs": [
        {
          "output_type": "stream",
          "name": "stdout",
          "text": [
            "Reading package lists... Done\n",
            "Building dependency tree... Done\n",
            "Reading state information... Done\n",
            "python3-opengl is already the newest version (3.1.5+dfsg-1).\n",
            "0 upgraded, 0 newly installed, 0 to remove and 19 not upgraded.\n",
            "Reading package lists... Done\n",
            "Building dependency tree... Done\n",
            "Reading state information... Done\n",
            "ffmpeg is already the newest version (7:4.4.2-0ubuntu0.22.04.1).\n",
            "0 upgraded, 0 newly installed, 0 to remove and 19 not upgraded.\n",
            "Reading package lists... Done\n",
            "Building dependency tree... Done\n",
            "Reading state information... Done\n",
            "The following additional packages will be installed:\n",
            "  libfontenc1 libxfont2 libxkbfile1 x11-xkb-utils xfonts-base xfonts-encodings xfonts-utils\n",
            "  xserver-common\n",
            "The following NEW packages will be installed:\n",
            "  libfontenc1 libxfont2 libxkbfile1 x11-xkb-utils xfonts-base xfonts-encodings xfonts-utils\n",
            "  xserver-common xvfb\n",
            "0 upgraded, 9 newly installed, 0 to remove and 19 not upgraded.\n",
            "Need to get 891 kB/7,812 kB of archives.\n",
            "After this operation, 11.9 MB of additional disk space will be used.\n",
            "Err:1 http://archive.ubuntu.com/ubuntu jammy-updates/main amd64 xserver-common all 2:21.1.4-2ubuntu1.7~22.04.1\n",
            "  404  Not Found [IP: 91.189.91.82 80]\n",
            "Err:2 http://archive.ubuntu.com/ubuntu jammy-updates/universe amd64 xvfb amd64 2:21.1.4-2ubuntu1.7~22.04.1\n",
            "  404  Not Found [IP: 91.189.91.82 80]\n",
            "\u001b[1;31mE: \u001b[0mFailed to fetch http://archive.ubuntu.com/ubuntu/pool/main/x/xorg-server/xserver-common_21.1.4-2ubuntu1.7%7e22.04.1_all.deb  404  Not Found [IP: 91.189.91.82 80]\u001b[0m\n",
            "\u001b[1;31mE: \u001b[0mFailed to fetch http://archive.ubuntu.com/ubuntu/pool/universe/x/xorg-server/xvfb_21.1.4-2ubuntu1.7%7e22.04.1_amd64.deb  404  Not Found [IP: 91.189.91.82 80]\u001b[0m\n",
            "\u001b[1;31mE: \u001b[0mUnable to fetch some archives, maybe run apt-get update or try with --fix-missing?\u001b[0m\n",
            "Requirement already satisfied: PyVirtualDisplay==3.0 in /usr/local/lib/python3.10/dist-packages (3.0)\n",
            "Requirement already satisfied: gymnasium==0.28.1 in /usr/local/lib/python3.10/dist-packages (0.28.1)\n",
            "Requirement already satisfied: numpy>=1.21.0 in /usr/local/lib/python3.10/dist-packages (from gymnasium==0.28.1) (1.23.5)\n",
            "Requirement already satisfied: jax-jumpy>=1.0.0 in /usr/local/lib/python3.10/dist-packages (from gymnasium==0.28.1) (1.0.0)\n",
            "Requirement already satisfied: cloudpickle>=1.2.0 in /usr/local/lib/python3.10/dist-packages (from gymnasium==0.28.1) (2.2.1)\n",
            "Requirement already satisfied: typing-extensions>=4.3.0 in /usr/local/lib/python3.10/dist-packages (from gymnasium==0.28.1) (4.5.0)\n",
            "Requirement already satisfied: farama-notifications>=0.0.1 in /usr/local/lib/python3.10/dist-packages (from gymnasium==0.28.1) (0.0.4)\n"
          ]
        },
        {
          "output_type": "error",
          "ename": "FileNotFoundError",
          "evalue": "ignored",
          "traceback": [
            "\u001b[0;31m---------------------------------------------------------------------------\u001b[0m",
            "\u001b[0;31mFileNotFoundError\u001b[0m                         Traceback (most recent call last)",
            "\u001b[0;32m<ipython-input-6-d4948ebdcb70>\u001b[0m in \u001b[0;36m<cell line: 4>\u001b[0;34m()\u001b[0m\n\u001b[1;32m     11\u001b[0m \u001b[0;34m\u001b[0m\u001b[0m\n\u001b[1;32m     12\u001b[0m     \u001b[0;31m# Start virtual display\u001b[0m\u001b[0;34m\u001b[0m\u001b[0;34m\u001b[0m\u001b[0m\n\u001b[0;32m---> 13\u001b[0;31m     \u001b[0mdis\u001b[0m \u001b[0;34m=\u001b[0m \u001b[0mDisplay\u001b[0m\u001b[0;34m(\u001b[0m\u001b[0mvisible\u001b[0m\u001b[0;34m=\u001b[0m\u001b[0;36m0\u001b[0m\u001b[0;34m,\u001b[0m \u001b[0msize\u001b[0m\u001b[0;34m=\u001b[0m\u001b[0;34m(\u001b[0m\u001b[0;36m400\u001b[0m\u001b[0;34m,\u001b[0m \u001b[0;36m400\u001b[0m\u001b[0;34m)\u001b[0m\u001b[0;34m)\u001b[0m\u001b[0;34m\u001b[0m\u001b[0;34m\u001b[0m\u001b[0m\n\u001b[0m\u001b[1;32m     14\u001b[0m     \u001b[0mdis\u001b[0m\u001b[0;34m.\u001b[0m\u001b[0mstart\u001b[0m\u001b[0;34m(\u001b[0m\u001b[0;34m)\u001b[0m\u001b[0;34m\u001b[0m\u001b[0;34m\u001b[0m\u001b[0m\n",
            "\u001b[0;32m/usr/local/lib/python3.10/dist-packages/pyvirtualdisplay/display.py\u001b[0m in \u001b[0;36m__init__\u001b[0;34m(self, backend, visible, size, color_depth, bgcolor, use_xauth, retries, extra_args, manage_global_env, **kwargs)\u001b[0m\n\u001b[1;32m     52\u001b[0m             \u001b[0;32mraise\u001b[0m \u001b[0mValueError\u001b[0m\u001b[0;34m(\u001b[0m\u001b[0;34m\"unknown backend: %s\"\u001b[0m \u001b[0;34m%\u001b[0m \u001b[0mself\u001b[0m\u001b[0;34m.\u001b[0m\u001b[0m_backend\u001b[0m\u001b[0;34m)\u001b[0m\u001b[0;34m\u001b[0m\u001b[0;34m\u001b[0m\u001b[0m\n\u001b[1;32m     53\u001b[0m \u001b[0;34m\u001b[0m\u001b[0m\n\u001b[0;32m---> 54\u001b[0;31m         self._obj = cls(\n\u001b[0m\u001b[1;32m     55\u001b[0m             \u001b[0msize\u001b[0m\u001b[0;34m=\u001b[0m\u001b[0msize\u001b[0m\u001b[0;34m,\u001b[0m\u001b[0;34m\u001b[0m\u001b[0;34m\u001b[0m\u001b[0m\n\u001b[1;32m     56\u001b[0m             \u001b[0mcolor_depth\u001b[0m\u001b[0;34m=\u001b[0m\u001b[0mcolor_depth\u001b[0m\u001b[0;34m,\u001b[0m\u001b[0;34m\u001b[0m\u001b[0;34m\u001b[0m\u001b[0m\n",
            "\u001b[0;32m/usr/local/lib/python3.10/dist-packages/pyvirtualdisplay/xvfb.py\u001b[0m in \u001b[0;36m__init__\u001b[0;34m(self, size, color_depth, bgcolor, use_xauth, fbdir, dpi, retries, extra_args, manage_global_env)\u001b[0m\n\u001b[1;32m     42\u001b[0m         \u001b[0mself\u001b[0m\u001b[0;34m.\u001b[0m\u001b[0m_dpi\u001b[0m \u001b[0;34m=\u001b[0m \u001b[0mdpi\u001b[0m\u001b[0;34m\u001b[0m\u001b[0;34m\u001b[0m\u001b[0m\n\u001b[1;32m     43\u001b[0m \u001b[0;34m\u001b[0m\u001b[0m\n\u001b[0;32m---> 44\u001b[0;31m         AbstractDisplay.__init__(\n\u001b[0m\u001b[1;32m     45\u001b[0m             \u001b[0mself\u001b[0m\u001b[0;34m,\u001b[0m\u001b[0;34m\u001b[0m\u001b[0;34m\u001b[0m\u001b[0m\n\u001b[1;32m     46\u001b[0m             \u001b[0mPROGRAM\u001b[0m\u001b[0;34m,\u001b[0m\u001b[0;34m\u001b[0m\u001b[0;34m\u001b[0m\u001b[0m\n",
            "\u001b[0;32m/usr/local/lib/python3.10/dist-packages/pyvirtualdisplay/abstractdisplay.py\u001b[0m in \u001b[0;36m__init__\u001b[0;34m(self, program, use_xauth, retries, extra_args, manage_global_env)\u001b[0m\n\u001b[1;32m     83\u001b[0m         \u001b[0mself\u001b[0m\u001b[0;34m.\u001b[0m\u001b[0m_retries_current\u001b[0m \u001b[0;34m=\u001b[0m \u001b[0;36m0\u001b[0m\u001b[0;34m\u001b[0m\u001b[0;34m\u001b[0m\u001b[0m\n\u001b[1;32m     84\u001b[0m \u001b[0;34m\u001b[0m\u001b[0m\n\u001b[0;32m---> 85\u001b[0;31m         \u001b[0mhelptext\u001b[0m \u001b[0;34m=\u001b[0m \u001b[0mget_helptext\u001b[0m\u001b[0;34m(\u001b[0m\u001b[0mprogram\u001b[0m\u001b[0;34m)\u001b[0m\u001b[0;34m\u001b[0m\u001b[0;34m\u001b[0m\u001b[0m\n\u001b[0m\u001b[1;32m     86\u001b[0m         \u001b[0mself\u001b[0m\u001b[0;34m.\u001b[0m\u001b[0m_has_displayfd\u001b[0m \u001b[0;34m=\u001b[0m \u001b[0;34m\"-displayfd\"\u001b[0m \u001b[0;32min\u001b[0m \u001b[0mhelptext\u001b[0m\u001b[0;34m\u001b[0m\u001b[0;34m\u001b[0m\u001b[0m\n\u001b[1;32m     87\u001b[0m         \u001b[0;32mif\u001b[0m \u001b[0;32mnot\u001b[0m \u001b[0mself\u001b[0m\u001b[0;34m.\u001b[0m\u001b[0m_has_displayfd\u001b[0m\u001b[0;34m:\u001b[0m\u001b[0;34m\u001b[0m\u001b[0;34m\u001b[0m\u001b[0m\n",
            "\u001b[0;32m/usr/local/lib/python3.10/dist-packages/pyvirtualdisplay/util.py\u001b[0m in \u001b[0;36mget_helptext\u001b[0;34m(program)\u001b[0m\n\u001b[1;32m     11\u001b[0m \u001b[0;34m\u001b[0m\u001b[0m\n\u001b[1;32m     12\u001b[0m     \u001b[0;31m# py3.6 also\u001b[0m\u001b[0;34m\u001b[0m\u001b[0;34m\u001b[0m\u001b[0m\n\u001b[0;32m---> 13\u001b[0;31m     p = subprocess.Popen(\n\u001b[0m\u001b[1;32m     14\u001b[0m         \u001b[0mcmd\u001b[0m\u001b[0;34m,\u001b[0m\u001b[0;34m\u001b[0m\u001b[0;34m\u001b[0m\u001b[0m\n\u001b[1;32m     15\u001b[0m         \u001b[0mstdout\u001b[0m\u001b[0;34m=\u001b[0m\u001b[0msubprocess\u001b[0m\u001b[0;34m.\u001b[0m\u001b[0mPIPE\u001b[0m\u001b[0;34m,\u001b[0m\u001b[0;34m\u001b[0m\u001b[0;34m\u001b[0m\u001b[0m\n",
            "\u001b[0;32m/usr/lib/python3.10/subprocess.py\u001b[0m in \u001b[0;36m__init__\u001b[0;34m(self, args, bufsize, executable, stdin, stdout, stderr, preexec_fn, close_fds, shell, cwd, env, universal_newlines, startupinfo, creationflags, restore_signals, start_new_session, pass_fds, user, group, extra_groups, encoding, errors, text, umask, pipesize)\u001b[0m\n\u001b[1;32m    969\u001b[0m                             encoding=encoding, errors=errors)\n\u001b[1;32m    970\u001b[0m \u001b[0;34m\u001b[0m\u001b[0m\n\u001b[0;32m--> 971\u001b[0;31m             self._execute_child(args, executable, preexec_fn, close_fds,\n\u001b[0m\u001b[1;32m    972\u001b[0m                                 \u001b[0mpass_fds\u001b[0m\u001b[0;34m,\u001b[0m \u001b[0mcwd\u001b[0m\u001b[0;34m,\u001b[0m \u001b[0menv\u001b[0m\u001b[0;34m,\u001b[0m\u001b[0;34m\u001b[0m\u001b[0;34m\u001b[0m\u001b[0m\n\u001b[1;32m    973\u001b[0m                                 \u001b[0mstartupinfo\u001b[0m\u001b[0;34m,\u001b[0m \u001b[0mcreationflags\u001b[0m\u001b[0;34m,\u001b[0m \u001b[0mshell\u001b[0m\u001b[0;34m,\u001b[0m\u001b[0;34m\u001b[0m\u001b[0;34m\u001b[0m\u001b[0m\n",
            "\u001b[0;32m/usr/lib/python3.10/subprocess.py\u001b[0m in \u001b[0;36m_execute_child\u001b[0;34m(self, args, executable, preexec_fn, close_fds, pass_fds, cwd, env, startupinfo, creationflags, shell, p2cread, p2cwrite, c2pread, c2pwrite, errread, errwrite, restore_signals, gid, gids, uid, umask, start_new_session)\u001b[0m\n\u001b[1;32m   1861\u001b[0m                     \u001b[0;32mif\u001b[0m \u001b[0merrno_num\u001b[0m \u001b[0;34m!=\u001b[0m \u001b[0;36m0\u001b[0m\u001b[0;34m:\u001b[0m\u001b[0;34m\u001b[0m\u001b[0;34m\u001b[0m\u001b[0m\n\u001b[1;32m   1862\u001b[0m                         \u001b[0merr_msg\u001b[0m \u001b[0;34m=\u001b[0m \u001b[0mos\u001b[0m\u001b[0;34m.\u001b[0m\u001b[0mstrerror\u001b[0m\u001b[0;34m(\u001b[0m\u001b[0merrno_num\u001b[0m\u001b[0;34m)\u001b[0m\u001b[0;34m\u001b[0m\u001b[0;34m\u001b[0m\u001b[0m\n\u001b[0;32m-> 1863\u001b[0;31m                     \u001b[0;32mraise\u001b[0m \u001b[0mchild_exception_type\u001b[0m\u001b[0;34m(\u001b[0m\u001b[0merrno_num\u001b[0m\u001b[0;34m,\u001b[0m \u001b[0merr_msg\u001b[0m\u001b[0;34m,\u001b[0m \u001b[0merr_filename\u001b[0m\u001b[0;34m)\u001b[0m\u001b[0;34m\u001b[0m\u001b[0;34m\u001b[0m\u001b[0m\n\u001b[0m\u001b[1;32m   1864\u001b[0m                 \u001b[0;32mraise\u001b[0m \u001b[0mchild_exception_type\u001b[0m\u001b[0;34m(\u001b[0m\u001b[0merr_msg\u001b[0m\u001b[0;34m)\u001b[0m\u001b[0;34m\u001b[0m\u001b[0;34m\u001b[0m\u001b[0m\n\u001b[1;32m   1865\u001b[0m \u001b[0;34m\u001b[0m\u001b[0m\n",
            "\u001b[0;31mFileNotFoundError\u001b[0m: [Errno 2] No such file or directory: 'Xvfb'"
          ]
        }
      ]
    },
    {
      "cell_type": "code",
      "source": [
        "!pip install torch\n",
        "!pip install pyglet\n",
        "!pip install gymnasium[classic-control]\n",
        "!pip install PyVirtualDisplay\n",
        "!pip install moviepy\n"
      ],
      "metadata": {
        "colab": {
          "base_uri": "https://localhost:8080/"
        },
        "id": "-dILEQGTtr0A",
        "outputId": "77572945-a52b-4d9e-e1de-ebb4a7c12bde"
      },
      "execution_count": 7,
      "outputs": [
        {
          "output_type": "stream",
          "name": "stdout",
          "text": [
            "Requirement already satisfied: torch in /usr/local/lib/python3.10/dist-packages (2.1.0+cu118)\n",
            "Requirement already satisfied: filelock in /usr/local/lib/python3.10/dist-packages (from torch) (3.12.4)\n",
            "Requirement already satisfied: typing-extensions in /usr/local/lib/python3.10/dist-packages (from torch) (4.5.0)\n",
            "Requirement already satisfied: sympy in /usr/local/lib/python3.10/dist-packages (from torch) (1.12)\n",
            "Requirement already satisfied: networkx in /usr/local/lib/python3.10/dist-packages (from torch) (3.2)\n",
            "Requirement already satisfied: jinja2 in /usr/local/lib/python3.10/dist-packages (from torch) (3.1.2)\n",
            "Requirement already satisfied: fsspec in /usr/local/lib/python3.10/dist-packages (from torch) (2023.6.0)\n",
            "Requirement already satisfied: triton==2.1.0 in /usr/local/lib/python3.10/dist-packages (from torch) (2.1.0)\n",
            "Requirement already satisfied: MarkupSafe>=2.0 in /usr/local/lib/python3.10/dist-packages (from jinja2->torch) (2.1.3)\n",
            "Requirement already satisfied: mpmath>=0.19 in /usr/local/lib/python3.10/dist-packages (from sympy->torch) (1.3.0)\n",
            "Collecting pyglet\n",
            "  Downloading pyglet-2.0.9-py3-none-any.whl (854 kB)\n",
            "\u001b[2K     \u001b[90m━━━━━━━━━━━━━━━━━━━━━━━━━━━━━━━━━━━━━━━━\u001b[0m \u001b[32m854.7/854.7 kB\u001b[0m \u001b[31m8.0 MB/s\u001b[0m eta \u001b[36m0:00:00\u001b[0m\n",
            "\u001b[?25hInstalling collected packages: pyglet\n",
            "Successfully installed pyglet-2.0.9\n",
            "Requirement already satisfied: gymnasium[classic-control] in /usr/local/lib/python3.10/dist-packages (0.28.1)\n",
            "Requirement already satisfied: numpy>=1.21.0 in /usr/local/lib/python3.10/dist-packages (from gymnasium[classic-control]) (1.23.5)\n",
            "Requirement already satisfied: jax-jumpy>=1.0.0 in /usr/local/lib/python3.10/dist-packages (from gymnasium[classic-control]) (1.0.0)\n",
            "Requirement already satisfied: cloudpickle>=1.2.0 in /usr/local/lib/python3.10/dist-packages (from gymnasium[classic-control]) (2.2.1)\n",
            "Requirement already satisfied: typing-extensions>=4.3.0 in /usr/local/lib/python3.10/dist-packages (from gymnasium[classic-control]) (4.5.0)\n",
            "Requirement already satisfied: farama-notifications>=0.0.1 in /usr/local/lib/python3.10/dist-packages (from gymnasium[classic-control]) (0.0.4)\n",
            "Collecting pygame==2.1.3 (from gymnasium[classic-control])\n",
            "  Downloading pygame-2.1.3-cp310-cp310-manylinux_2_17_x86_64.manylinux2014_x86_64.whl (13.7 MB)\n",
            "\u001b[2K     \u001b[90m━━━━━━━━━━━━━━━━━━━━━━━━━━━━━━━━━━━━━━━━\u001b[0m \u001b[32m13.7/13.7 MB\u001b[0m \u001b[31m48.0 MB/s\u001b[0m eta \u001b[36m0:00:00\u001b[0m\n",
            "\u001b[?25hInstalling collected packages: pygame\n",
            "  Attempting uninstall: pygame\n",
            "    Found existing installation: pygame 2.5.2\n",
            "    Uninstalling pygame-2.5.2:\n",
            "      Successfully uninstalled pygame-2.5.2\n",
            "Successfully installed pygame-2.1.3\n",
            "Requirement already satisfied: PyVirtualDisplay in /usr/local/lib/python3.10/dist-packages (3.0)\n",
            "Requirement already satisfied: moviepy in /usr/local/lib/python3.10/dist-packages (1.0.3)\n",
            "Requirement already satisfied: decorator<5.0,>=4.0.2 in /usr/local/lib/python3.10/dist-packages (from moviepy) (4.4.2)\n",
            "Requirement already satisfied: tqdm<5.0,>=4.11.2 in /usr/local/lib/python3.10/dist-packages (from moviepy) (4.66.1)\n",
            "Requirement already satisfied: requests<3.0,>=2.8.1 in /usr/local/lib/python3.10/dist-packages (from moviepy) (2.31.0)\n",
            "Requirement already satisfied: proglog<=1.0.0 in /usr/local/lib/python3.10/dist-packages (from moviepy) (0.1.10)\n",
            "Requirement already satisfied: numpy>=1.17.3 in /usr/local/lib/python3.10/dist-packages (from moviepy) (1.23.5)\n",
            "Requirement already satisfied: imageio<3.0,>=2.5 in /usr/local/lib/python3.10/dist-packages (from moviepy) (2.31.6)\n",
            "Requirement already satisfied: imageio-ffmpeg>=0.2.0 in /usr/local/lib/python3.10/dist-packages (from moviepy) (0.4.9)\n",
            "Requirement already satisfied: pillow<10.1.0,>=8.3.2 in /usr/local/lib/python3.10/dist-packages (from imageio<3.0,>=2.5->moviepy) (9.4.0)\n",
            "Requirement already satisfied: setuptools in /usr/local/lib/python3.10/dist-packages (from imageio-ffmpeg>=0.2.0->moviepy) (67.7.2)\n",
            "Requirement already satisfied: charset-normalizer<4,>=2 in /usr/local/lib/python3.10/dist-packages (from requests<3.0,>=2.8.1->moviepy) (3.3.1)\n",
            "Requirement already satisfied: idna<4,>=2.5 in /usr/local/lib/python3.10/dist-packages (from requests<3.0,>=2.8.1->moviepy) (3.4)\n",
            "Requirement already satisfied: urllib3<3,>=1.21.1 in /usr/local/lib/python3.10/dist-packages (from requests<3.0,>=2.8.1->moviepy) (2.0.7)\n",
            "Requirement already satisfied: certifi>=2017.4.17 in /usr/local/lib/python3.10/dist-packages (from requests<3.0,>=2.8.1->moviepy) (2023.7.22)\n"
          ]
        }
      ]
    },
    {
      "cell_type": "markdown",
      "source": [
        "#### Import required libraries\n",
        "In this section we will import all the required libraries to implement our algorithms"
      ],
      "metadata": {
        "id": "UKJufeCvuPc0"
      }
    },
    {
      "cell_type": "code",
      "execution_count": 3,
      "metadata": {
        "id": "3M2MHbrOs63i"
      },
      "outputs": [],
      "source": [
        "import torch\n",
        "import os\n",
        "from typing import Dict, List, Tuple\n",
        "import gymnasium as gym\n",
        "import torch.nn as nn\n",
        "import torch.nn.functional as F\n",
        "import torch.optim as optim\n",
        "import numpy as np\n",
        "import matplotlib.pyplot as plt\n",
        "from IPython.display import clear_output\n"
      ]
    },
    {
      "cell_type": "markdown",
      "source": [
        "#### Replay Buffer\n",
        "Replay buffer is used to store the previous experiences in order to stabilize training of the DQN.\n",
        "The replay buffer is implemented in one of the following\n",
        "- numpy\n",
        "- dequeue\n",
        "- list\n",
        "\n",
        "In our implementation of the replay buffer we will be using numpy arrays as they benefit for locality of reference, so this well speed up the retreival time of items"
      ],
      "metadata": {
        "id": "0A95yvtpin2A"
      }
    },
    {
      "cell_type": "code",
      "source": [
        "class ReplayBuffer:\n",
        "  def __init__(self, obs_dim:int, size:int, batch_size:int=32):\n",
        "    # we create empty lists to store the information in the buffers\n",
        "    self.obs_buf = np.zeros([size, obs_dim], dtype=np.float32)\n",
        "    self.next_obs_buf = np.zeros([size, obs_dim], dtype=np.float32)\n",
        "    self.acts_buf = np.zeros([size], dtype=np.float32)\n",
        "    self.rews_buf = np.zeros([size], dtype=np.float32)\n",
        "    self.done_buf = np.zeros(size, dtype=np.float32)\n",
        "    # set the batch size and the maximum size of the replay buffer\n",
        "    self.max_size, self.batch_size = size, batch_size\n",
        "    # set the pointer value and the size value\n",
        "    self.ptr, self.size, = 0, 0\n",
        "\n",
        "  def store(self, obs, action, reward, next_obs, done):\n",
        "    self.obs_buf[self.ptr] = obs\n",
        "    self.next_obs_buf[self.ptr] = next_obs\n",
        "    self.acts_buf[self.ptr] = action\n",
        "    self.rews_buf[self.ptr] = reward\n",
        "    self.done_buf[self.ptr] = done\n",
        "    # set the pointer value to the modulus of the max size and the current pointer +1\n",
        "    self.ptr = (self.ptr + 1) % self.max_size\n",
        "    # if the size exceeds the max size, set the value to max size\n",
        "    self.size = min(self.size + 1, self.max_size)\n",
        "\n",
        "\n",
        "  def sample(self):\n",
        "    idxs = np.random.choice(self.size, size=self.batch_size, replace=False)\n",
        "    return dict(obs=self.obs_buf[idxs],\n",
        "                acts=self.acts_buf[idxs],\n",
        "                rews=self.rews_buf[idxs],\n",
        "                next_obs=self.next_obs_buf[idxs],\n",
        "                done=self.done_buf[idxs])\n",
        "  def __len__(self):\n",
        "    return self.size"
      ],
      "metadata": {
        "id": "EuePWJoKkX24"
      },
      "execution_count": 4,
      "outputs": []
    },
    {
      "cell_type": "markdown",
      "source": [
        "#### Network implementation\n",
        "In this section we will focus on implementing the neural network for our DQN algorithm"
      ],
      "metadata": {
        "id": "DMfDba5OoLUW"
      }
    },
    {
      "cell_type": "code",
      "source": [
        "class Network(nn.Module):\n",
        "  def __init__(self, inp_dim:int, out_dim:int, hidden_dim=128):\n",
        "    # initiation\n",
        "    super().__init__()\n",
        "    self.layers = nn.Sequential(\n",
        "        nn.Linear(inp_dim, hidden_dim),\n",
        "        nn.ReLU(),\n",
        "        nn.Linear(hidden_dim, hidden_dim),\n",
        "        nn.ReLU(),\n",
        "        nn.Linear(hidden_dim, out_dim), # We are returning the actual values of the actions\n",
        "    )\n",
        "\n",
        "  def forward(self, x):\n",
        "    # equation\n",
        "    return self.layers(x)"
      ],
      "metadata": {
        "id": "_ZyYFziXoKdg"
      },
      "execution_count": 5,
      "outputs": []
    },
    {
      "cell_type": "code",
      "source": [
        "class DQNAgent:\n",
        "  \"\"\"\n",
        "  This class handles the training and inference of\n",
        "  the DQN agent class\n",
        "  \"\"\"\n",
        "  def __init__(self, env, memory_size:int, batch_size,\n",
        "               target_update, epsilon_decay, seed,\n",
        "               max_epsilon:float=1.0, min_epsilon:float=0.1,\n",
        "               gamma:float=0.99):\n",
        "    obs_dim = env.observation_space.shape[0]\n",
        "    act_dim = env.action_space.n\n",
        "\n",
        "    self.env = env\n",
        "    self.memory = ReplayBuffer(obs_dim, memory_size, batch_size)\n",
        "    self.batch_size = batch_size\n",
        "    self.epsilon = max_epsilon\n",
        "    self.epsilon_decay = epsilon_decay\n",
        "    self.seed = seed\n",
        "    self.max_epsilon = max_epsilon\n",
        "    self.min_epsilon = min_epsilon\n",
        "    self.target_update = target_update\n",
        "    self.gamma = gamma # discout factor\n",
        "\n",
        "    self.obs_dim = obs_dim\n",
        "    self.act_dim = act_dim\n",
        "\n",
        "    self.device = \"cuda\" if torch.cuda.is_available() else \"cpu\"\n",
        "    self.dqn = Network(obs_dim, act_dim).to(self.device)\n",
        "    self.dqn_target = Network(obs_dim, act_dim).to(self.device)\n",
        "    self.dqn_target.load_state_dict(self.dqn.state_dict())\n",
        "    self.dqn_target.eval()\n",
        "\n",
        "    self.optimizer = optim.Adam(self.dqn.parameters())\n",
        "    self.transitions = list()\n",
        "    self.is_test = False\n",
        "\n",
        "\n",
        "  def select_action(self, obs):\n",
        "    # select an action given an observation\n",
        "    if self.epsilon > np.random.random():\n",
        "      selected_action = self.env.action_space.sample()\n",
        "    else:\n",
        "      selected_action = self.dqn(torch.FloatTensor(obs).to(self.device)).argmax()\n",
        "      selected_action = selected_action.detach().cpu().numpy()\n",
        "    if not self.is_test:\n",
        "      self.transition = [obs, selected_action]\n",
        "\n",
        "    return selected_action\n",
        "\n",
        "  def step(self, action):\n",
        "    \"\"\"Take an action and return the response of the env.\"\"\"\n",
        "    next_state, reward, terminated, truncated, _ = self.env.step(action)\n",
        "    done = terminated or truncated\n",
        "\n",
        "    if not self.is_test:\n",
        "      self.transition += [reward, next_state, done]\n",
        "      self.memory.store(*self.transition)\n",
        "\n",
        "    return next_state, reward, done\n",
        "\n",
        "\n",
        "  def update_model(self):\n",
        "    samples = self.memory.sample()\n",
        "    loss = self._compute_dqn_loss(samples)\n",
        "    self.optimizer.zero_grad()\n",
        "    loss.backward()\n",
        "    self.optimizer.step()\n",
        "\n",
        "    return loss.item()\n",
        "\n",
        "\n",
        "  def _compute_dqn_loss(self, samples):\n",
        "    # return computed dqn loss\n",
        "    device = self.device  # for shortening the following lines\n",
        "    state = torch.FloatTensor(samples[\"obs\"]).to(device)\n",
        "    next_state = torch.FloatTensor(samples[\"next_obs\"]).to(device)\n",
        "    action = torch.LongTensor(samples[\"acts\"].reshape(-1, 1)).to(device)\n",
        "    reward = torch.FloatTensor(samples[\"rews\"].reshape(-1, 1)).to(device)\n",
        "    done = torch.FloatTensor(samples[\"done\"].reshape(-1, 1)).to(device)\n",
        "\n",
        "    curr_q_value = self.dqn(state).gather(1, action)\n",
        "    next_q_value = self.dqn_target(\n",
        "            next_state\n",
        "        ).max(dim=1, keepdim=True)[0].detach()\n",
        "    mask = 1 - done\n",
        "    target = (reward + self.gamma * next_q_value * mask).to(self.device)\n",
        "    # calculate dqn loss\n",
        "    loss = F.smooth_l1_loss(curr_q_value, target)\n",
        "    return loss\n",
        "\n",
        "  def train(self, num_frames, plotting_interval:int=200):\n",
        "    \"\"\"\n",
        "    Train the RL agent\n",
        "    \"\"\"\n",
        "    self.is_test = False\n",
        "    state, _ = self.env.reset(seed=self.seed)\n",
        "    update_cnt = 0\n",
        "    epsilons = []\n",
        "    losses = []\n",
        "    scores = []\n",
        "    score = 0\n",
        "\n",
        "    for frame_idx in range(0, num_frames+1):\n",
        "      action = self.select_action(state)\n",
        "      next_state, reward, done = self.step(action)\n",
        "\n",
        "      state = next_state\n",
        "      score += reward\n",
        "\n",
        "      # if episode ends\n",
        "      if done:\n",
        "          state, _ = self.env.reset(seed=self.seed)\n",
        "          scores.append(score)\n",
        "          score = 0\n",
        "\n",
        "      # if training is ready\n",
        "      if len(self.memory) >= self.batch_size:\n",
        "          loss = self.update_model()\n",
        "          losses.append(loss)\n",
        "          update_cnt += 1\n",
        "\n",
        "          # linearly decrease epsilon\n",
        "          self.epsilon = max(\n",
        "              self.min_epsilon, self.epsilon - (\n",
        "                  self.max_epsilon - self.min_epsilon\n",
        "              ) * self.epsilon_decay\n",
        "          )\n",
        "          epsilons.append(self.epsilon)\n",
        "\n",
        "          # if hard update is needed\n",
        "          if update_cnt % self.target_update == 0:\n",
        "              self._target_hard_update()\n",
        "\n",
        "      # plotting\n",
        "      if frame_idx % plotting_interval == 0:\n",
        "          self._plot(frame_idx, scores, losses, epsilons)\n",
        "\n",
        "    self.env.close()\n",
        "\n",
        "\n",
        "  def test(self, video_folder:str):\n",
        "    \"\"\"Test the agent.\"\"\"\n",
        "    self.is_test = True\n",
        "\n",
        "    # for recording a video\n",
        "    naive_env = self.env\n",
        "    # create new environment for recording video\n",
        "    self.env = gym.wrappers.RecordVideo(self.env, video_folder=video_folder)\n",
        "\n",
        "    state, _ = self.env.reset(seed=self.seed)\n",
        "    done = False\n",
        "    score = 0\n",
        "\n",
        "    # we run only a single episode of the environment\n",
        "    while not done:\n",
        "      action = self.select_action(state)\n",
        "      next_state, reward, done = self.step(action)\n",
        "\n",
        "      state = next_state\n",
        "      score += reward\n",
        "\n",
        "    print(\"score: \", score)\n",
        "    self.env.close()\n",
        "\n",
        "    # reset\n",
        "    self.env = naive_env\n",
        "\n",
        "  def _target_hard_update(self):\n",
        "        \"\"\"Hard update: target <- local.\"\"\"\n",
        "        self.dqn_target.load_state_dict(self.dqn.state_dict())\n",
        "\n",
        "  def _plot(\n",
        "      self,\n",
        "      frame_idx: int,\n",
        "      scores: List[float],\n",
        "      losses: List[float],\n",
        "      epsilons: List[float],\n",
        "  ):\n",
        "      \"\"\"Plot the training progresses.\"\"\"\n",
        "      clear_output(True)\n",
        "      plt.figure(figsize=(20, 5))\n",
        "      plt.subplot(131)\n",
        "      plt.title('frame %s. score: %s' % (frame_idx, np.mean(scores[-10:])))\n",
        "      plt.plot(scores)\n",
        "      plt.subplot(132)\n",
        "      plt.title('loss')\n",
        "      plt.plot(losses)\n",
        "      plt.subplot(133)\n",
        "      plt.title('epsilons')\n",
        "      plt.plot(epsilons)\n",
        "      plt.show()\n",
        "\n"
      ],
      "metadata": {
        "id": "pX5K2OO4pXmn"
      },
      "execution_count": 26,
      "outputs": []
    },
    {
      "cell_type": "markdown",
      "source": [
        "#### Environment\n",
        "Here we setup the environment for the experiment, we will be using the 2d cartpole environment"
      ],
      "metadata": {
        "id": "jwYmPGJs4IxQ"
      }
    },
    {
      "cell_type": "code",
      "source": [
        "!apt-get install swig3.0\n",
        "!pip install swig\n",
        "!pip install gymnasium[box2d]"
      ],
      "metadata": {
        "colab": {
          "base_uri": "https://localhost:8080/"
        },
        "id": "zt38ChzSCwjl",
        "outputId": "9d832c92-6bc4-42a7-8293-842d3524ee9c"
      },
      "execution_count": 52,
      "outputs": [
        {
          "output_type": "stream",
          "name": "stdout",
          "text": [
            "Reading package lists... Done\n",
            "Building dependency tree... Done\n",
            "Reading state information... Done\n",
            "swig3.0 is already the newest version (3.0.12-2.2ubuntu1).\n",
            "0 upgraded, 0 newly installed, 0 to remove and 18 not upgraded.\n",
            "Collecting swig\n",
            "  Using cached swig-4.1.1-py2.py3-none-manylinux_2_5_x86_64.manylinux1_x86_64.whl (1.8 MB)\n",
            "Installing collected packages: swig\n",
            "Successfully installed swig-4.1.1\n",
            "Requirement already satisfied: gymnasium[box2d] in /usr/local/lib/python3.10/dist-packages (0.28.1)\n",
            "Requirement already satisfied: numpy>=1.21.0 in /usr/local/lib/python3.10/dist-packages (from gymnasium[box2d]) (1.23.5)\n",
            "Requirement already satisfied: jax-jumpy>=1.0.0 in /usr/local/lib/python3.10/dist-packages (from gymnasium[box2d]) (1.0.0)\n",
            "Requirement already satisfied: cloudpickle>=1.2.0 in /usr/local/lib/python3.10/dist-packages (from gymnasium[box2d]) (2.2.1)\n",
            "Requirement already satisfied: typing-extensions>=4.3.0 in /usr/local/lib/python3.10/dist-packages (from gymnasium[box2d]) (4.5.0)\n",
            "Requirement already satisfied: farama-notifications>=0.0.1 in /usr/local/lib/python3.10/dist-packages (from gymnasium[box2d]) (0.0.4)\n",
            "Collecting box2d-py==2.3.5 (from gymnasium[box2d])\n",
            "  Using cached box2d-py-2.3.5.tar.gz (374 kB)\n",
            "  Preparing metadata (setup.py) ... \u001b[?25l\u001b[?25hdone\n",
            "Requirement already satisfied: pygame==2.1.3 in /usr/local/lib/python3.10/dist-packages (from gymnasium[box2d]) (2.1.3)\n",
            "Requirement already satisfied: swig==4.* in /usr/local/lib/python3.10/dist-packages (from gymnasium[box2d]) (4.1.1)\n",
            "Building wheels for collected packages: box2d-py\n",
            "  Building wheel for box2d-py (setup.py) ... \u001b[?25l\u001b[?25hdone\n",
            "  Created wheel for box2d-py: filename=box2d_py-2.3.5-cp310-cp310-linux_x86_64.whl size=2373077 sha256=e0704df630b78e390dd5612e47b3367ca8ae47d717d4c296efaedb7c432c0ac9\n",
            "  Stored in directory: /root/.cache/pip/wheels/db/8f/6a/eaaadf056fba10a98d986f6dce954e6201ba3126926fc5ad9e\n",
            "Successfully built box2d-py\n",
            "Installing collected packages: box2d-py\n",
            "Successfully installed box2d-py-2.3.5\n"
          ]
        }
      ]
    },
    {
      "cell_type": "code",
      "source": [
        "# environment\n",
        "env = gym.make(\"LunarLander-v2\", max_episode_steps=200, render_mode=\"rgb_array\")"
      ],
      "metadata": {
        "id": "0dOwB3rAsSJY"
      },
      "execution_count": 53,
      "outputs": []
    },
    {
      "cell_type": "code",
      "source": [
        "env.observation_space.sample()"
      ],
      "metadata": {
        "colab": {
          "base_uri": "https://localhost:8080/"
        },
        "id": "430HvER8CdeN",
        "outputId": "1e99cf74-f395-4584-c558-cbadb011bc2e"
      },
      "execution_count": 55,
      "outputs": [
        {
          "output_type": "execute_result",
          "data": {
            "text/plain": [
              "array([-29.93665   ,  83.948746  ,   4.995944  ,  -1.7844111 ,\n",
              "        -2.5391252 ,   4.2003303 ,   0.3408827 ,   0.35302174],\n",
              "      dtype=float32)"
            ]
          },
          "metadata": {},
          "execution_count": 55
        }
      ]
    },
    {
      "cell_type": "code",
      "source": [
        "# set the random seed to control variabilty of the experiment\n",
        "seed = 777\n",
        "\n",
        "def seed_torch(seed):\n",
        "    torch.manual_seed(seed)\n",
        "    if torch.backends.cudnn.enabled:\n",
        "        torch.cuda.manual_seed(seed)\n",
        "        torch.backends.cudnn.benchmark = False\n",
        "        torch.backends.cudnn.deterministic = True\n",
        "\n",
        "np.random.seed(seed)\n",
        "seed_torch(seed)"
      ],
      "metadata": {
        "id": "tUDvIYMz4ZH3"
      },
      "execution_count": 56,
      "outputs": []
    },
    {
      "cell_type": "code",
      "source": [
        "# parameters\n",
        "num_frames = 1000000\n",
        "memory_size = 1000\n",
        "batch_size = 32\n",
        "target_update = 100\n",
        "epsilon_decay = 1 / 2000\n",
        "video_folder=\"videos/dqn/lunar_lander\"\n",
        "\n",
        "agent = DQNAgent(env, memory_size, batch_size, target_update, epsilon_decay, seed)"
      ],
      "metadata": {
        "id": "fd0Zgi5l4l8Q"
      },
      "execution_count": 58,
      "outputs": []
    },
    {
      "cell_type": "code",
      "source": [
        "agent.epsilon_decay"
      ],
      "metadata": {
        "colab": {
          "base_uri": "https://localhost:8080/"
        },
        "id": "B_N3fobD_LdL",
        "outputId": "fae8fcc2-0ba1-4c51-dc46-b1687862c236"
      },
      "execution_count": 59,
      "outputs": [
        {
          "output_type": "execute_result",
          "data": {
            "text/plain": [
              "0.0005"
            ]
          },
          "metadata": {},
          "execution_count": 59
        }
      ]
    },
    {
      "cell_type": "markdown",
      "source": [
        "#### Train and Test DQN model\n",
        "In this section we will train and test the DQN model iteratively on the cartpole environment"
      ],
      "metadata": {
        "id": "hlM-ww0m5GMw"
      }
    },
    {
      "cell_type": "code",
      "source": [
        "agent.train(num_frames=num_frames-500000)"
      ],
      "metadata": {
        "colab": {
          "base_uri": "https://localhost:8080/",
          "height": 391
        },
        "id": "bIBFQyxX4ufa",
        "outputId": "38abafe2-1c6e-4f27-b103-2e26a3bce069"
      },
      "execution_count": 67,
      "outputs": [
        {
          "output_type": "display_data",
          "data": {
            "text/plain": [
              "<Figure size 2000x500 with 3 Axes>"
            ],
            "image/png": "[encoded data removed]"
          },
          "metadata": {}
        }
      ]
    },
    {
      "cell_type": "code",
      "source": [
        "agent.train(num_frames=num_frames)"
      ],
      "metadata": {
        "colab": {
          "base_uri": "https://localhost:8080/",
          "height": 397
        },
        "id": "spPvhdyY4sDq",
        "outputId": "8c2729e3-14d6-4e60-f31a-0325480ec752"
      },
      "execution_count": 32,
      "outputs": [
        {
          "output_type": "display_data",
          "data": {
            "text/plain": [
              "<Figure size 2000x500 with 3 Axes>"
            ],
            "image/png": "[encoded data removed]"
          },
          "metadata": {}
        }
      ]
    },
    {
      "cell_type": "code",
      "source": [
        "agent.test(video_folder)"
      ],
      "metadata": {
        "colab": {
          "base_uri": "https://localhost:8080/"
        },
        "id": "od6oRO0t41QO",
        "outputId": "f06683d3-11c8-4d26-99e7-609391ad2d68"
      },
      "execution_count": 70,
      "outputs": [
        {
          "output_type": "stream",
          "name": "stdout",
          "text": [
            "Moviepy - Building video /content/videos/dqn/lunar_lander/rl-video-episode-0.mp4.\n",
            "Moviepy - Writing video /content/videos/dqn/lunar_lander/rl-video-episode-0.mp4\n",
            "\n"
          ]
        },
        {
          "output_type": "stream",
          "name": "stderr",
          "text": []
        },
        {
          "output_type": "stream",
          "name": "stdout",
          "text": [
            "Moviepy - Done !\n",
            "Moviepy - video ready /content/videos/dqn/lunar_lander/rl-video-episode-0.mp4\n",
            "score:  115.31250751790564\n"
          ]
        }
      ]
    },
    {
      "cell_type": "markdown",
      "source": [
        "#### Render Video\n",
        "In this section we will render the video that was generated during the testing of the agent model"
      ],
      "metadata": {
        "id": "056dkZAB5Dh2"
      }
    },
    {
      "cell_type": "code",
      "source": [
        "import base64\n",
        "import glob\n",
        "import io\n",
        "import os\n",
        "from typing import List\n",
        "\n",
        "from IPython.display import HTML, display\n",
        "\n",
        "\n",
        "def ipython_show_video(path: str) -> None:\n",
        "    \"\"\"Show a video at `path` within IPython Notebook.\"\"\"\n",
        "    if not os.path.isfile(path):\n",
        "        raise NameError(\"Cannot access: {}\".format(path))\n",
        "\n",
        "    video = io.open(path, \"r+b\").read()\n",
        "    encoded = base64.b64encode(video)\n",
        "\n",
        "    display(HTML(\n",
        "        data=\"\"\"\n",
        "        <video width=\"320\" height=\"240\" alt=\"test\" controls>\n",
        "        <source src=\"data:video/mp4;base64,{0}\" type=\"video/mp4\"/>\n",
        "        </video>\n",
        "        \"\"\".format(encoded.decode(\"ascii\"))\n",
        "    ))\n",
        "\n",
        "\n",
        "def show_latest_video(video_folder: str) -> List[str]:\n",
        "    \"\"\"Show the most recently recorded video from video folder.\"\"\"\n",
        "    list_of_files = glob.glob(os.path.join(video_folder, \"*.mp4\"))\n",
        "    for file in list_of_files:\n",
        "      ipython_show_video(file)\n",
        "    return list_of_files\n",
        "\n",
        "\n",
        "list_of_files = show_latest_video(video_folder=video_folder)\n",
        "print(\"Played:\", list_of_files)"
      ],
      "metadata": {
        "colab": {
          "base_uri": "https://localhost:8080/",
          "height": 276
        },
        "id": "dD-4_e1m5V16",
        "outputId": "2843c5f6-9d7e-40cc-e7fd-b36b690b9ee3"
      },
      "execution_count": 71,
      "outputs": [
        {
          "output_type": "display_data",
          "data": {
            "text/plain": [
              "<IPython.core.display.HTML object>"
            ],
            "text/html": [
              "\n",
              "        <video width=\"320\" height=\"240\" alt=\"test\" controls>\n",
              "        <source src=\"data:video/mp4;base64,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\" type=\"video/mp4\"/>\n",
              "        </video>\n",
              "        "
            ]
          },
          "metadata": {}
        },
        {
          "output_type": "stream",
          "name": "stdout",
          "text": [
            "Played: ['videos/dqn/lunar_lander/rl-video-episode-0.mp4']\n"
          ]
        }
      ]
    },
    {
      "cell_type": "markdown",
      "source": [
        "This is awesomeeee!!!!!!!"
      ],
      "metadata": {
        "id": "Nv10CyugfrwL"
      }
    },
    {
      "cell_type": "markdown",
      "source": [
        "### Double DQN\n",
        "Double DQN is a modification of the DQN that tries to mitigate the over optimistic values of the Q network. So it proposes to use a different network for value estimation in the training. It will use the target network as this seperate network."
      ],
      "metadata": {
        "id": "a0UkIFgIWiM_"
      }
    },
    {
      "cell_type": "code",
      "source": [
        "import os\n",
        "import torch.nn as nn\n",
        "import torch\n",
        "import torch.nn.functional as F\n",
        "import torch.optim as optim\n",
        "import numpy as np\n",
        "import gymnasium as gym"
      ],
      "metadata": {
        "id": "ENf0lGZffrhr"
      },
      "execution_count": 8,
      "outputs": []
    },
    {
      "cell_type": "markdown",
      "source": [
        "#### Replay Buffer\n",
        "We implement the replay buffer for storing previous experiences that our agent has experienced, and then we sample from them during training."
      ],
      "metadata": {
        "id": "HliWYDCEm5EJ"
      }
    },
    {
      "cell_type": "code",
      "source": [
        "class ReplayBuffer:\n",
        "  def __init__(self, obs_dim, size, batch_size=32):\n",
        "    self.obs_buf = np.zeros((size, obs_dim))\n",
        "    self.next_obs_buf = np.zeros((size, obs_dim))\n",
        "    self.act_buf = np.zeros((size))\n",
        "    self.rews_buf = np.zeros((size))\n",
        "    self.done_buf = np.zeros((size))\n",
        "\n",
        "    self.max_size = size\n",
        "    self.size, self.index = 0, 0\n",
        "\n",
        "    self.batch_size = batch_size\n",
        "\n",
        "  def store(self, obs, action, score, next_obs, done):\n",
        "    self.obs_buf[self.index] = obs\n",
        "    self.act_buf[self.index] = action\n",
        "    self.rews_buf[self.index] = score\n",
        "    self.next_obs_buf[self.index] = next_obs\n",
        "    self.done_buf[self.index] = next_obs\n",
        "\n",
        "    self.index = (self.index +  1 ) % self.max_size\n",
        "    self.size = min(self.size + 1, self.max_size)\n",
        "\n",
        "\n",
        "  def __len__(self):\n",
        "    return self.size\n",
        "\n",
        "\n",
        "  def sample(self):\n",
        "    idxs = np.random.choice(self.size, self.batch_size, replace = False)\n",
        "    return dict(obs=self.obs_buf[idxs],\n",
        "                acts=self.act_buf[idxs],\n",
        "                rews=self.rews_buf[idxs],\n",
        "                next_obs=self.next_obs_buf[idxs],\n",
        "                done = self.done_buf[idxs])\n",
        ""
      ],
      "metadata": {
        "id": "X2_MoO0ijvCY"
      },
      "execution_count": 10,
      "outputs": []
    },
    {
      "cell_type": "markdown",
      "source": [
        "#### Neural Network\n",
        "We implement the neural network that si used by our agent to learn the value function for the various state action pairs"
      ],
      "metadata": {
        "id": "MsqXFCQZnZ83"
      }
    },
    {
      "cell_type": "code",
      "source": [
        "class Network(nn.Module):\n",
        "  def __init__(self, inp_dim:int , out_dim:int , hidden_dim:int=256):\n",
        "    super().__init__()\n",
        "    self.layers = nn.Sequential(\n",
        "        nn.Linear(inp_dim, hidden_dim),\n",
        "        nn.ReLU(),\n",
        "        nn.Linear(hidden_dim, hidden_dim),\n",
        "        nn.ReLU(),\n",
        "        nn.Linear(hidden_dim, hidden_dim),\n",
        "        nn.ReLU(),\n",
        "        nn.Linear(hidden_dim, out_dim)\n",
        "        )\n",
        "\n",
        "  def forward(self, state):\n",
        "    return self.layers(state)"
      ],
      "metadata": {
        "id": "WQvtpTyunmL_"
      },
      "execution_count": 9,
      "outputs": []
    },
    {
      "cell_type": "markdown",
      "source": [
        "#### Implement full DQN architecture\n",
        "In this section we will be implementing the full DQN agent set with training and testing implmented"
      ],
      "metadata": {
        "id": "890qhtBWpP_u"
      }
    },
    {
      "cell_type": "code",
      "source": [
        "class Double_DQNAgent:\n",
        "  def __init__(self, env, memory_size:int,\n",
        "               batch_size:int, epsilon_decay:float,\n",
        "               target_update:int, seed:int,\n",
        "               max_epsilon:float=1.0, min_epsilon:float=0.1,\n",
        "               gamma:float=0.99):\n",
        "    self.env = env\n",
        "    self.action_size = self.env.action_space.n\n",
        "    self.obs_size = self.env.observation_space.shape[0]\n",
        "    self.memory = ReplayBuffer(self.obs_size, memory_size, batch_size)\n",
        "    self.batch_size = batch_size\n",
        "    self.epsilon = max_epsilon\n",
        "    self.epsilon_decay = epsilon_decay\n",
        "    self.seed = seed\n",
        "    self.max_epsilon = max_epsilon\n",
        "    self.min_epsilon = min_epsilon\n",
        "    self.target_update = target_update\n",
        "    self.gamma = gamma\n",
        "    self.device = \"cuda\" if torch.cuda.is_available() else \"cpu\"\n",
        "    self.dqn = Network(self.obs_size, self.action_size).to(self.device)\n",
        "    self.dqn_target = Network(self.obs_size, self.action_size).to(self.device)\n",
        "    self.dqn_target.load_state_dict(self.dqn.state_dict())\n",
        "    self.dqn_target.eval()\n",
        "\n",
        "    self.optimizer = optim.Adam(self.dqn.parameters())\n",
        "    self.transitions = list()\n",
        "    # mode: train / test\n",
        "    self.is_test = False\n",
        "\n",
        "  def select_action(self, state):\n",
        "    if self.epsilon > np.random.random():\n",
        "      selected_action = self.env.action_space.sample()\n",
        "    else:\n",
        "      selected_action = self.dqn(torch.Tensor(state).to(self.device)).argmax()\n",
        "      selected_action = selected_action.detach().cpu().numpy()\n",
        "\n",
        "    if not self.is_test:\n",
        "            self.transition = [state, selected_action]\n",
        "\n",
        "    return selected_action\n",
        "\n",
        "  def step(self, action):\n",
        "    next_obs, reward, terminated, truncated = self.env.step(action)\n",
        "    done = terminated or truncated\n",
        "    if not self.is_test:\n",
        "      self.transitions += [reward, next_obs, done]\n",
        "      self.memory.store(*self.transition)\n",
        "    return next_obs, reward, done\n",
        "\n",
        "\n",
        "  def update_model(self):\n",
        "    samples = self.memory.sample()\n",
        "    loss = self._compute_loss(samples)\n",
        "    self.optimizer.zero_grad()\n",
        "    loss.backward()\n",
        "    self.optimizer.step()\n",
        "\n",
        "    return loss.item()\n",
        "\n",
        "  def _compute_loss(self, samples):\n",
        "    device = self.device  # for shortening the following lines\n",
        "    state = torch.FloatTensor(samples[\"obs\"]).to(device)\n",
        "    next_state = torch.FloatTensor(samples[\"next_obs\"]).to(device)\n",
        "    actions = torch.LongTensor(samples[\"acts\"].reshape(-1, 1)).to(device)\n",
        "    reward = torch.FloatTensor(samples[\"rews\"].reshape(-1, 1)).to(device)\n",
        "    done = torch.FloatTensor(samples[\"done\"].reshape(-1, 1)).to(device)\n",
        "\n",
        "    curr_value = self.dqn(state).gather(1, actions)\n",
        "    next_value = self.dqn_target(next_state).gather(1,\n",
        "                                                    self.dqn(state).argmax(dim=1, keepdim=True)).detach()\n",
        "\n",
        "    mask = 1 - done\n",
        "    target = (reward + self.gamma * next_value * mask).to(self.device)\n",
        "    loss = F.smooth_l1_loss(curr_value, target)\n",
        "\n",
        "    return loss\n",
        "\n",
        "\n",
        "  def _target_hard_update(self):\n",
        "    self.dqn_target.load_state_dict(self.dqn.state_dict())\n",
        "\n",
        "\n",
        "\n",
        "  def train(self, num_frames:int, plotting_interval:int=200):\n",
        "    self.is_test = False\n",
        "    state, _ = self.env.reset(seed=self.seed)\n",
        "    update_cnt = 0\n",
        "    epsilons = []\n",
        "    losses = []\n",
        "    scores = []\n",
        "    score = 0\n",
        "\n",
        "    for frame_idx in range(1, num_frames + 1):\n",
        "      action = self.select_action(state)\n",
        "      next_state, reward, done = self.step(action)\n",
        "\n",
        "      state = next_state\n",
        "      score += reward\n",
        "\n",
        "      # if episode ends\n",
        "      if done:\n",
        "        state, _ = self.env.reset(seed=self.seed)\n",
        "        scores.append(score)\n",
        "        score = 0\n",
        "\n",
        "      # if training is ready\n",
        "      if len(self.memory) >= self.batch_size:\n",
        "        loss = self.update_model()\n",
        "        losses.append(loss)\n",
        "        update_cnt += 1\n",
        "\n",
        "        # linearly decrease epsilon\n",
        "        self.epsilon = max(\n",
        "                    self.min_epsilon, self.epsilon - (\n",
        "                        self.max_epsilon - self.min_epsilon\n",
        "                    ) * self.epsilon_decay\n",
        "                )\n",
        "        epsilons.append(self.epsilon)\n",
        "\n",
        "        # if hard update is needed\n",
        "        if update_cnt % self.target_update == 0:\n",
        "          self._target_hard_update()\n",
        "\n",
        "        # plotting\n",
        "      if frame_idx % plotting_interval == 0:\n",
        "        self._plot(frame_idx, scores, losses, epsilons)\n",
        "\n",
        "    self.env.close()\n",
        "\n",
        "\n",
        "\n",
        "  def test(self, video_folder):\n",
        "    native_env = self.env\n",
        "    self.env = gym.wrappers.RecordVideo(native_env, video_folder=video_folder)\n",
        "    state, _ = self.env.reset()\n",
        "    done = False\n",
        "    score = 0\n",
        "\n",
        "    while not done:\n",
        "      action = self.select_action(state)\n",
        "      next_state, reward, done = self.step(action)\n",
        "\n",
        "      state = next_state\n",
        "      score += reward\n",
        "\n",
        "\n",
        "    print(\"score: \", score)\n",
        "    self.env.close()\n",
        "\n",
        "    self.env = native_env\n",
        "\n",
        "\n",
        "  def _plot(self,\n",
        "        frame_idx: int,\n",
        "        scores: List[float],\n",
        "        losses: List[float],\n",
        "        epsilons: List[float],\n",
        "    ):\n",
        "        \"\"\"Plot the training progresses.\"\"\"\n",
        "        clear_output(True)\n",
        "        plt.figure(figsize=(20, 5))\n",
        "        plt.subplot(131)\n",
        "        plt.title('frame %s. score: %s' % (frame_idx, np.mean(scores[-10:])))\n",
        "        plt.plot(scores)\n",
        "        plt.subplot(132)\n",
        "        plt.title('loss')\n",
        "        plt.plot(losses)\n",
        "        plt.subplot(133)\n",
        "        plt.title('epsilons')\n",
        "        plt.plot(epsilons)\n",
        "        plt.show()"
      ],
      "metadata": {
        "id": "ZDLqRM4zpfR7"
      },
      "execution_count": null,
      "outputs": []
    },
    {
      "cell_type": "markdown",
      "source": [
        "#### Environment\n",
        "In this section we will work on setting up the environment for double dqn with gymnassium"
      ],
      "metadata": {
        "id": "ghRg0XEe6cJn"
      }
    },
    {
      "cell_type": "code",
      "source": [
        "env = gym.make(\"CartPole-v1\", max_episode_steps=200, render_mode=\"rgb_array\")"
      ],
      "metadata": {
        "id": "ZedGRJvt6bdv"
      },
      "execution_count": null,
      "outputs": []
    },
    {
      "cell_type": "markdown",
      "source": [
        "#### Experiment setup\n",
        "In this section we will be setting up the experiment to train the double dqn algorithm"
      ],
      "metadata": {
        "id": "g6zSHY2A6354"
      }
    },
    {
      "cell_type": "code",
      "source": [
        "seed = 777\n",
        "\n",
        "def seed_torch(seed):\n",
        "    torch.manual_seed(seed)\n",
        "    if torch.backends.cudnn.enabled:\n",
        "        torch.cuda.manual_seed(seed)\n",
        "        torch.backends.cudnn.benchmark = False\n",
        "        torch.backends.cudnn.deterministic = True\n",
        "\n",
        "np.random.seed(seed)\n",
        "seed_torch(seed)"
      ],
      "metadata": {
        "id": "nkmBXIVH6_sm"
      },
      "execution_count": null,
      "outputs": []
    },
    {
      "cell_type": "code",
      "source": [
        "# parameters\n",
        "num_frames = 10000\n",
        "memory_size = 1000\n",
        "batch_size = 32\n",
        "target_update = 200\n",
        "epsilon_decay = 1 / 2000\n",
        "\n",
        "# train\n",
        "agent = Double_DQNAgent(env, memory_size, batch_size, epsilon_decay, target_update, seed)"
      ],
      "metadata": {
        "id": "OavnzrMw7EAS"
      },
      "execution_count": null,
      "outputs": []
    },
    {
      "cell_type": "code",
      "source": [
        "agent.train(num_frames)"
      ],
      "metadata": {
        "id": "CSFpRHoF7Mb_"
      },
      "execution_count": null,
      "outputs": []
    },
    {
      "cell_type": "code",
      "source": [
        "video_folder = \"video/double_dqn/cart_pole\"\n",
        "agent.test(video_folder)"
      ],
      "metadata": {
        "id": "EBfBA9Qf7nLd"
      },
      "execution_count": null,
      "outputs": []
    },
    {
      "cell_type": "code",
      "source": [
        "import base64\n",
        "import glob\n",
        "import io\n",
        "import os\n",
        "\n",
        "from IPython.display import HTML, display\n",
        "\n",
        "\n",
        "def ipython_show_video(path: str) -> None:\n",
        "    \"\"\"Show a video at `path` within IPython Notebook.\"\"\"\n",
        "    if not os.path.isfile(path):\n",
        "        raise NameError(\"Cannot access: {}\".format(path))\n",
        "\n",
        "    video = io.open(path, \"r+b\").read()\n",
        "    encoded = base64.b64encode(video)\n",
        "\n",
        "    display(HTML(\n",
        "        data=\"\"\"\n",
        "        <video width=\"320\" height=\"240\" alt=\"test\" controls>\n",
        "        <source src=\"data:video/mp4;base64,{0}\" type=\"video/mp4\"/>\n",
        "        </video>\n",
        "        \"\"\".format(encoded.decode(\"ascii\"))\n",
        "    ))\n",
        "\n",
        "\n",
        "def show_latest_video(video_folder: str) -> str:\n",
        "    \"\"\"Show the most recently recorded video from video folder.\"\"\"\n",
        "    list_of_files = glob.glob(os.path.join(video_folder, \"*.mp4\"))\n",
        "    latest_file = max(list_of_files, key=os.path.getctime)\n",
        "    ipython_show_video(latest_file)\n",
        "    return latest_file\n",
        "\n",
        "\n",
        "latest_file = show_latest_video(video_folder=video_folder)\n",
        "print(\"Played:\", latest_file)"
      ],
      "metadata": {
        "id": "s9nVX94U7tdg"
      },
      "execution_count": null,
      "outputs": []
    }
  ]
}